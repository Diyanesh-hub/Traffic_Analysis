{
  "cells": [
    {
      "cell_type": "markdown",
      "metadata": {
        "id": "Kr8iusZcivMx"
      },
      "source": [
        "Importing the Modules"
      ]
    },
    {
      "cell_type": "code",
      "execution_count": null,
      "metadata": {
        "id": "7GlqxVkqrAYa"
      },
      "outputs": [],
      "source": [
        "import numpy as np\n",
        "import pandas as pd\n",
        "import sklearn\n",
        "from google.colab import files\n",
        "import matplotlib.pyplot as plt\n",
        "import seaborn as sns\n",
        "from sklearn.preprocessing import LabelEncoder\n",
        "from sklearn.model_selection import train_test_split"
      ]
    },
    {
      "cell_type": "markdown",
      "metadata": {
        "id": "-S8kNL6djDYC"
      },
      "source": [
        "Uploading and the concatenating the datasets"
      ]
    },
    {
      "cell_type": "code",
      "execution_count": null,
      "metadata": {
        "colab": {
          "base_uri": "https://localhost:8080/"
        },
        "id": "I79_WIaNrt6a",
        "outputId": "560125bb-a2e6-4abb-b952-9111324a671c"
      },
      "outputs": [
        {
          "output_type": "stream",
          "name": "stderr",
          "text": [
            "<ipython-input-2-5c369ca32fc9>:1: DtypeWarning: Columns (1,3) have mixed types. Specify dtype option on import or set low_memory=False.\n",
            "  data1=pd.read_csv('/content/drive/MyDrive/Colab Notebooks/UNSW-NB15_1.csv',encoding='cp1252')\n",
            "<ipython-input-2-5c369ca32fc9>:2: DtypeWarning: Columns (3,39) have mixed types. Specify dtype option on import or set low_memory=False.\n",
            "  data2=pd.read_csv('/content/drive/MyDrive/Colab Notebooks/UNSW-NB15_2.csv',encoding='cp1252')\n"
          ]
        }
      ],
      "source": [
        "data1=pd.read_csv('/content/drive/MyDrive/Colab Notebooks/UNSW-NB15_1.csv',encoding='cp1252')\n",
        "data2=pd.read_csv('/content/drive/MyDrive/Colab Notebooks/UNSW-NB15_2.csv',encoding='cp1252')\n",
        "data3=pd.read_csv('/content/drive/MyDrive/Colab Notebooks/UNSW-NB15_3.csv',encoding='cp1252')\n",
        "data4=pd.read_csv('/content/drive/MyDrive/Colab Notebooks/UNSW-NB15_4.csv',encoding='cp1252')\n",
        "dataset=pd.concat([data1,data2,data3,data4],ignore_index=True)\n",
        "dataset=pd.DataFrame(dataset)\n",
        "del data1\n",
        "del data2\n",
        "del data3\n",
        "del data4"
      ]
    },
    {
      "cell_type": "code",
      "execution_count": null,
      "metadata": {
        "colab": {
          "base_uri": "https://localhost:8080/",
          "height": 505
        },
        "id": "ml_hNLjF07B0",
        "outputId": "faff7f77-afb3-43c5-8859-a8c62aedf679"
      },
      "outputs": [
        {
          "output_type": "execute_result",
          "data": {
            "text/plain": [
              "             srothers  sport       dstothers dsport proto   state       dur  \\\n",
              "0          59.166.0.0   1390   149.171.126.6     53   udp  others  0.001055   \n",
              "1          59.166.0.0  33661   149.171.126.9   1024   udp  others  0.036133   \n",
              "2          59.166.0.6   1464   149.171.126.7     53   udp  others  0.001119   \n",
              "3          59.166.0.5   3593   149.171.126.5     53   udp  others  0.001209   \n",
              "4          59.166.0.3  49664   149.171.126.0     53   udp  others  0.001169   \n",
              "...               ...    ...             ...    ...   ...     ...       ...   \n",
              "2540042    59.166.0.5  33094   149.171.126.7  43433   tcp     FIN  0.087306   \n",
              "2540043    59.166.0.7  20848   149.171.126.4     21   tcp  others  0.365058   \n",
              "2540044    59.166.0.3  21511   149.171.126.9     21   tcp  others  6.335154   \n",
              "2540045    59.166.0.9  35433   149.171.126.0     80   tcp  others  2.200934   \n",
              "2540046  175.45.176.0  17293  149.171.126.17    110   tcp  others  0.942984   \n",
              "\n",
              "         sbytes  dbytes  sttl  ...  ct_ftp_cmd  ct_srv_src  ct_srv_dst  \\\n",
              "0           132     164    31  ...           0           3           7   \n",
              "1           528     304    31  ...           0           2           4   \n",
              "2           146     178    31  ...           0          12           8   \n",
              "3           132     164    31  ...           0           6           9   \n",
              "4           146     178    31  ...           0           7           9   \n",
              "...         ...     ...   ...  ...         ...         ...         ...   \n",
              "2540042     320    1828    31  ...                       1           2   \n",
              "2540043     456     346    31  ...           2           2           2   \n",
              "2540044    1802    2088    31  ...           2           2           2   \n",
              "2540045    3498  166054    31  ...                       1           1   \n",
              "2540046     574     676    62  ...                       1           1   \n",
              "\n",
              "        ct_dst_ltm  ct_src_ ltm  ct_src_dport_ltm  ct_dst_sport_ltm  \\\n",
              "0                1            3                 1                 1   \n",
              "1                2            3                 1                 1   \n",
              "2                1            2                 2                 1   \n",
              "3                1            1                 1                 1   \n",
              "4                1            1                 1                 1   \n",
              "...            ...          ...               ...               ...   \n",
              "2540042          3            3                 1                 1   \n",
              "2540043          2            2                 2                 2   \n",
              "2540044          4            2                 2                 2   \n",
              "2540045          2            4                 2                 2   \n",
              "2540046          2            4                 2                 2   \n",
              "\n",
              "         ct_dst_src_ltm  attack_cat  Label  \n",
              "0                     1      Normal      0  \n",
              "1                     2      Normal      0  \n",
              "2                     1      Normal      0  \n",
              "3                     1      Normal      0  \n",
              "4                     1      Normal      0  \n",
              "...                 ...         ...    ...  \n",
              "2540042               3      Normal      0  \n",
              "2540043               2      Normal      0  \n",
              "2540044               2      Normal      0  \n",
              "2540045               2      Normal      0  \n",
              "2540046               2    Exploits      1  \n",
              "\n",
              "[2540047 rows x 49 columns]"
            ],
            "text/html": [
              "\n",
              "  <div id=\"df-cb0ec73b-5e97-463b-8bae-9814433b1a79\">\n",
              "    <div class=\"colab-df-container\">\n",
              "      <div>\n",
              "<style scoped>\n",
              "    .dataframe tbody tr th:only-of-type {\n",
              "        vertical-align: middle;\n",
              "    }\n",
              "\n",
              "    .dataframe tbody tr th {\n",
              "        vertical-align: top;\n",
              "    }\n",
              "\n",
              "    .dataframe thead th {\n",
              "        text-align: right;\n",
              "    }\n",
              "</style>\n",
              "<table border=\"1\" class=\"dataframe\">\n",
              "  <thead>\n",
              "    <tr style=\"text-align: right;\">\n",
              "      <th></th>\n",
              "      <th>srothers</th>\n",
              "      <th>sport</th>\n",
              "      <th>dstothers</th>\n",
              "      <th>dsport</th>\n",
              "      <th>proto</th>\n",
              "      <th>state</th>\n",
              "      <th>dur</th>\n",
              "      <th>sbytes</th>\n",
              "      <th>dbytes</th>\n",
              "      <th>sttl</th>\n",
              "      <th>...</th>\n",
              "      <th>ct_ftp_cmd</th>\n",
              "      <th>ct_srv_src</th>\n",
              "      <th>ct_srv_dst</th>\n",
              "      <th>ct_dst_ltm</th>\n",
              "      <th>ct_src_ ltm</th>\n",
              "      <th>ct_src_dport_ltm</th>\n",
              "      <th>ct_dst_sport_ltm</th>\n",
              "      <th>ct_dst_src_ltm</th>\n",
              "      <th>attack_cat</th>\n",
              "      <th>Label</th>\n",
              "    </tr>\n",
              "  </thead>\n",
              "  <tbody>\n",
              "    <tr>\n",
              "      <th>0</th>\n",
              "      <td>59.166.0.0</td>\n",
              "      <td>1390</td>\n",
              "      <td>149.171.126.6</td>\n",
              "      <td>53</td>\n",
              "      <td>udp</td>\n",
              "      <td>others</td>\n",
              "      <td>0.001055</td>\n",
              "      <td>132</td>\n",
              "      <td>164</td>\n",
              "      <td>31</td>\n",
              "      <td>...</td>\n",
              "      <td>0</td>\n",
              "      <td>3</td>\n",
              "      <td>7</td>\n",
              "      <td>1</td>\n",
              "      <td>3</td>\n",
              "      <td>1</td>\n",
              "      <td>1</td>\n",
              "      <td>1</td>\n",
              "      <td>Normal</td>\n",
              "      <td>0</td>\n",
              "    </tr>\n",
              "    <tr>\n",
              "      <th>1</th>\n",
              "      <td>59.166.0.0</td>\n",
              "      <td>33661</td>\n",
              "      <td>149.171.126.9</td>\n",
              "      <td>1024</td>\n",
              "      <td>udp</td>\n",
              "      <td>others</td>\n",
              "      <td>0.036133</td>\n",
              "      <td>528</td>\n",
              "      <td>304</td>\n",
              "      <td>31</td>\n",
              "      <td>...</td>\n",
              "      <td>0</td>\n",
              "      <td>2</td>\n",
              "      <td>4</td>\n",
              "      <td>2</td>\n",
              "      <td>3</td>\n",
              "      <td>1</td>\n",
              "      <td>1</td>\n",
              "      <td>2</td>\n",
              "      <td>Normal</td>\n",
              "      <td>0</td>\n",
              "    </tr>\n",
              "    <tr>\n",
              "      <th>2</th>\n",
              "      <td>59.166.0.6</td>\n",
              "      <td>1464</td>\n",
              "      <td>149.171.126.7</td>\n",
              "      <td>53</td>\n",
              "      <td>udp</td>\n",
              "      <td>others</td>\n",
              "      <td>0.001119</td>\n",
              "      <td>146</td>\n",
              "      <td>178</td>\n",
              "      <td>31</td>\n",
              "      <td>...</td>\n",
              "      <td>0</td>\n",
              "      <td>12</td>\n",
              "      <td>8</td>\n",
              "      <td>1</td>\n",
              "      <td>2</td>\n",
              "      <td>2</td>\n",
              "      <td>1</td>\n",
              "      <td>1</td>\n",
              "      <td>Normal</td>\n",
              "      <td>0</td>\n",
              "    </tr>\n",
              "    <tr>\n",
              "      <th>3</th>\n",
              "      <td>59.166.0.5</td>\n",
              "      <td>3593</td>\n",
              "      <td>149.171.126.5</td>\n",
              "      <td>53</td>\n",
              "      <td>udp</td>\n",
              "      <td>others</td>\n",
              "      <td>0.001209</td>\n",
              "      <td>132</td>\n",
              "      <td>164</td>\n",
              "      <td>31</td>\n",
              "      <td>...</td>\n",
              "      <td>0</td>\n",
              "      <td>6</td>\n",
              "      <td>9</td>\n",
              "      <td>1</td>\n",
              "      <td>1</td>\n",
              "      <td>1</td>\n",
              "      <td>1</td>\n",
              "      <td>1</td>\n",
              "      <td>Normal</td>\n",
              "      <td>0</td>\n",
              "    </tr>\n",
              "    <tr>\n",
              "      <th>4</th>\n",
              "      <td>59.166.0.3</td>\n",
              "      <td>49664</td>\n",
              "      <td>149.171.126.0</td>\n",
              "      <td>53</td>\n",
              "      <td>udp</td>\n",
              "      <td>others</td>\n",
              "      <td>0.001169</td>\n",
              "      <td>146</td>\n",
              "      <td>178</td>\n",
              "      <td>31</td>\n",
              "      <td>...</td>\n",
              "      <td>0</td>\n",
              "      <td>7</td>\n",
              "      <td>9</td>\n",
              "      <td>1</td>\n",
              "      <td>1</td>\n",
              "      <td>1</td>\n",
              "      <td>1</td>\n",
              "      <td>1</td>\n",
              "      <td>Normal</td>\n",
              "      <td>0</td>\n",
              "    </tr>\n",
              "    <tr>\n",
              "      <th>...</th>\n",
              "      <td>...</td>\n",
              "      <td>...</td>\n",
              "      <td>...</td>\n",
              "      <td>...</td>\n",
              "      <td>...</td>\n",
              "      <td>...</td>\n",
              "      <td>...</td>\n",
              "      <td>...</td>\n",
              "      <td>...</td>\n",
              "      <td>...</td>\n",
              "      <td>...</td>\n",
              "      <td>...</td>\n",
              "      <td>...</td>\n",
              "      <td>...</td>\n",
              "      <td>...</td>\n",
              "      <td>...</td>\n",
              "      <td>...</td>\n",
              "      <td>...</td>\n",
              "      <td>...</td>\n",
              "      <td>...</td>\n",
              "      <td>...</td>\n",
              "    </tr>\n",
              "    <tr>\n",
              "      <th>2540042</th>\n",
              "      <td>59.166.0.5</td>\n",
              "      <td>33094</td>\n",
              "      <td>149.171.126.7</td>\n",
              "      <td>43433</td>\n",
              "      <td>tcp</td>\n",
              "      <td>FIN</td>\n",
              "      <td>0.087306</td>\n",
              "      <td>320</td>\n",
              "      <td>1828</td>\n",
              "      <td>31</td>\n",
              "      <td>...</td>\n",
              "      <td></td>\n",
              "      <td>1</td>\n",
              "      <td>2</td>\n",
              "      <td>3</td>\n",
              "      <td>3</td>\n",
              "      <td>1</td>\n",
              "      <td>1</td>\n",
              "      <td>3</td>\n",
              "      <td>Normal</td>\n",
              "      <td>0</td>\n",
              "    </tr>\n",
              "    <tr>\n",
              "      <th>2540043</th>\n",
              "      <td>59.166.0.7</td>\n",
              "      <td>20848</td>\n",
              "      <td>149.171.126.4</td>\n",
              "      <td>21</td>\n",
              "      <td>tcp</td>\n",
              "      <td>others</td>\n",
              "      <td>0.365058</td>\n",
              "      <td>456</td>\n",
              "      <td>346</td>\n",
              "      <td>31</td>\n",
              "      <td>...</td>\n",
              "      <td>2</td>\n",
              "      <td>2</td>\n",
              "      <td>2</td>\n",
              "      <td>2</td>\n",
              "      <td>2</td>\n",
              "      <td>2</td>\n",
              "      <td>2</td>\n",
              "      <td>2</td>\n",
              "      <td>Normal</td>\n",
              "      <td>0</td>\n",
              "    </tr>\n",
              "    <tr>\n",
              "      <th>2540044</th>\n",
              "      <td>59.166.0.3</td>\n",
              "      <td>21511</td>\n",
              "      <td>149.171.126.9</td>\n",
              "      <td>21</td>\n",
              "      <td>tcp</td>\n",
              "      <td>others</td>\n",
              "      <td>6.335154</td>\n",
              "      <td>1802</td>\n",
              "      <td>2088</td>\n",
              "      <td>31</td>\n",
              "      <td>...</td>\n",
              "      <td>2</td>\n",
              "      <td>2</td>\n",
              "      <td>2</td>\n",
              "      <td>4</td>\n",
              "      <td>2</td>\n",
              "      <td>2</td>\n",
              "      <td>2</td>\n",
              "      <td>2</td>\n",
              "      <td>Normal</td>\n",
              "      <td>0</td>\n",
              "    </tr>\n",
              "    <tr>\n",
              "      <th>2540045</th>\n",
              "      <td>59.166.0.9</td>\n",
              "      <td>35433</td>\n",
              "      <td>149.171.126.0</td>\n",
              "      <td>80</td>\n",
              "      <td>tcp</td>\n",
              "      <td>others</td>\n",
              "      <td>2.200934</td>\n",
              "      <td>3498</td>\n",
              "      <td>166054</td>\n",
              "      <td>31</td>\n",
              "      <td>...</td>\n",
              "      <td></td>\n",
              "      <td>1</td>\n",
              "      <td>1</td>\n",
              "      <td>2</td>\n",
              "      <td>4</td>\n",
              "      <td>2</td>\n",
              "      <td>2</td>\n",
              "      <td>2</td>\n",
              "      <td>Normal</td>\n",
              "      <td>0</td>\n",
              "    </tr>\n",
              "    <tr>\n",
              "      <th>2540046</th>\n",
              "      <td>175.45.176.0</td>\n",
              "      <td>17293</td>\n",
              "      <td>149.171.126.17</td>\n",
              "      <td>110</td>\n",
              "      <td>tcp</td>\n",
              "      <td>others</td>\n",
              "      <td>0.942984</td>\n",
              "      <td>574</td>\n",
              "      <td>676</td>\n",
              "      <td>62</td>\n",
              "      <td>...</td>\n",
              "      <td></td>\n",
              "      <td>1</td>\n",
              "      <td>1</td>\n",
              "      <td>2</td>\n",
              "      <td>4</td>\n",
              "      <td>2</td>\n",
              "      <td>2</td>\n",
              "      <td>2</td>\n",
              "      <td>Exploits</td>\n",
              "      <td>1</td>\n",
              "    </tr>\n",
              "  </tbody>\n",
              "</table>\n",
              "<p>2540047 rows × 49 columns</p>\n",
              "</div>\n",
              "      <button class=\"colab-df-convert\" onclick=\"convertToInteractive('df-cb0ec73b-5e97-463b-8bae-9814433b1a79')\"\n",
              "              title=\"Convert this dataframe to an interactive table.\"\n",
              "              style=\"display:none;\">\n",
              "        \n",
              "  <svg xmlns=\"http://www.w3.org/2000/svg\" height=\"24px\"viewBox=\"0 0 24 24\"\n",
              "       width=\"24px\">\n",
              "    <path d=\"M0 0h24v24H0V0z\" fill=\"none\"/>\n",
              "    <path d=\"M18.56 5.44l.94 2.06.94-2.06 2.06-.94-2.06-.94-.94-2.06-.94 2.06-2.06.94zm-11 1L8.5 8.5l.94-2.06 2.06-.94-2.06-.94L8.5 2.5l-.94 2.06-2.06.94zm10 10l.94 2.06.94-2.06 2.06-.94-2.06-.94-.94-2.06-.94 2.06-2.06.94z\"/><path d=\"M17.41 7.96l-1.37-1.37c-.4-.4-.92-.59-1.43-.59-.52 0-1.04.2-1.43.59L10.3 9.45l-7.72 7.72c-.78.78-.78 2.05 0 2.83L4 21.41c.39.39.9.59 1.41.59.51 0 1.02-.2 1.41-.59l7.78-7.78 2.81-2.81c.8-.78.8-2.07 0-2.86zM5.41 20L4 18.59l7.72-7.72 1.47 1.35L5.41 20z\"/>\n",
              "  </svg>\n",
              "      </button>\n",
              "      \n",
              "  <style>\n",
              "    .colab-df-container {\n",
              "      display:flex;\n",
              "      flex-wrap:wrap;\n",
              "      gap: 12px;\n",
              "    }\n",
              "\n",
              "    .colab-df-convert {\n",
              "      background-color: #E8F0FE;\n",
              "      border: none;\n",
              "      border-radius: 50%;\n",
              "      cursor: pointer;\n",
              "      display: none;\n",
              "      fill: #1967D2;\n",
              "      height: 32px;\n",
              "      padding: 0 0 0 0;\n",
              "      width: 32px;\n",
              "    }\n",
              "\n",
              "    .colab-df-convert:hover {\n",
              "      background-color: #E2EBFA;\n",
              "      box-shadow: 0px 1px 2px rgba(60, 64, 67, 0.3), 0px 1px 3px 1px rgba(60, 64, 67, 0.15);\n",
              "      fill: #174EA6;\n",
              "    }\n",
              "\n",
              "    [theme=dark] .colab-df-convert {\n",
              "      background-color: #3B4455;\n",
              "      fill: #D2E3FC;\n",
              "    }\n",
              "\n",
              "    [theme=dark] .colab-df-convert:hover {\n",
              "      background-color: #434B5C;\n",
              "      box-shadow: 0px 1px 3px 1px rgba(0, 0, 0, 0.15);\n",
              "      filter: drop-shadow(0px 1px 2px rgba(0, 0, 0, 0.3));\n",
              "      fill: #FFFFFF;\n",
              "    }\n",
              "  </style>\n",
              "\n",
              "      <script>\n",
              "        const buttonEl =\n",
              "          document.querySelector('#df-cb0ec73b-5e97-463b-8bae-9814433b1a79 button.colab-df-convert');\n",
              "        buttonEl.style.display =\n",
              "          google.colab.kernel.accessAllowed ? 'block' : 'none';\n",
              "\n",
              "        async function convertToInteractive(key) {\n",
              "          const element = document.querySelector('#df-cb0ec73b-5e97-463b-8bae-9814433b1a79');\n",
              "          const dataTable =\n",
              "            await google.colab.kernel.invokeFunction('convertToInteractive',\n",
              "                                                     [key], {});\n",
              "          if (!dataTable) return;\n",
              "\n",
              "          const docLinkHtml = 'Like what you see? Visit the ' +\n",
              "            '<a target=\"_blank\" href=https://colab.research.google.com/notebooks/data_table.ipynb>data table notebook</a>'\n",
              "            + ' to learn more about interactive tables.';\n",
              "          element.innerHTML = '';\n",
              "          dataTable['output_type'] = 'display_data';\n",
              "          await google.colab.output.renderOutput(dataTable, element);\n",
              "          const docLink = document.createElement('div');\n",
              "          docLink.innerHTML = docLinkHtml;\n",
              "          element.appendChild(docLink);\n",
              "        }\n",
              "      </script>\n",
              "    </div>\n",
              "  </div>\n",
              "  "
            ]
          },
          "metadata": {},
          "execution_count": 3
        }
      ],
      "source": [
        "dataset"
      ]
    },
    {
      "cell_type": "code",
      "execution_count": null,
      "metadata": {
        "colab": {
          "base_uri": "https://localhost:8080/"
        },
        "id": "40kd_qYWTikA",
        "outputId": "05f10238-6a8c-46a6-cbb9-5f4344322476"
      },
      "outputs": [
        {
          "output_type": "execute_result",
          "data": {
            "text/plain": [
              "array(['Normal', 'Exploits', 'Reothersnaissance', 'DoS', 'Generic',\n",
              "       'Shellcode', 'Fuzzers', 'Worms', 'Backdoor', 'Analysis'],\n",
              "      dtype=object)"
            ]
          },
          "metadata": {},
          "execution_count": 4
        }
      ],
      "source": [
        "dataset['attack_cat'].unique()"
      ]
    },
    {
      "cell_type": "markdown",
      "metadata": {
        "id": "FhPuKV_qjQTB"
      },
      "source": [
        "Identifying and assigning the Dependant and Independant variables"
      ]
    },
    {
      "cell_type": "code",
      "execution_count": null,
      "metadata": {
        "colab": {
          "base_uri": "https://localhost:8080/"
        },
        "id": "ARjb4iJ54e6X",
        "outputId": "86e7b528-011a-493c-837c-2f720ab443e9"
      },
      "outputs": [
        {
          "output_type": "stream",
          "name": "stdout",
          "text": [
            "(321283, 1)\n"
          ]
        }
      ],
      "source": [
        "X=dataset.drop(axis=1,columns=['attack_cat','Label','sport','dsport','ct_ftp_cmd'])\n",
        "y=dataset.drop(axis=1,columns=dataset.iloc[:,0:47])\n",
        "y1=y.drop(axis=1,columns=['Label'])\n",
        "y1=y1.drop(axis=0,index=y1[y1['attack_cat']==\"Normal\"].index)\n",
        "print(y1.shape)\n",
        "y1=y1['attack_cat'].values\n",
        "y2=dataset['Label'].values"
      ]
    },
    {
      "cell_type": "markdown",
      "metadata": {
        "id": "RuPhtkGtjlxH"
      },
      "source": [
        "1. Plotting the graphs for Attack vs Not Attack\n",
        "2. Plotting the graphs to show the count of distinct attacks"
      ]
    },
    {
      "cell_type": "code",
      "execution_count": null,
      "metadata": {
        "colab": {
          "base_uri": "https://localhost:8080/",
          "height": 893
        },
        "id": "4nj8AZpD8kZr",
        "outputId": "651f496f-8909-4fac-a982-3b1301f147ee"
      },
      "outputs": [
        {
          "output_type": "display_data",
          "data": {
            "text/plain": [
              "<Figure size 640x480 with 1 Axes>"
            ],
            "image/png": "[encoded data removed]"
          },
          "metadata": {}
        },
        {
          "output_type": "display_data",
          "data": {
            "text/plain": [
              "<Figure size 1600x500 with 1 Axes>"
            ],
            "image/png": "[encoded data removed]"
          },
          "metadata": {}
        }
      ],
      "source": [
        "g=sns.countplot(x=dataset['Label'])\n",
        "g.set(ylim=(0,2500000))\n",
        "plt.show()\n",
        "\n",
        "plt.figure(figsize=(16,5))\n",
        "h=sns.countplot(x=y1)\n",
        "plt.show()"
      ]
    },
    {
      "cell_type": "code",
      "source": [
        "def bar_plot_data(df: dict, field: str, subtitle: str, figsize=(5, 4), top_filter=15):\n",
        "    fig, ax1 = plt.subplots(figsize=figsize, dpi=100)\n",
        "\n",
        "    for spline in ['top', 'right', 'left']:\n",
        "        ax1.spines[spline].set_visible(False)\n",
        "\n",
        "    total=len(df[field])\n",
        "\n",
        "    df_filter = df[field].value_counts().rename_axis(field).reset_index(name='counts')\n",
        "    if top_filter:\n",
        "        df_filter = df_filter.head(top_filter)\n",
        "    sns.barplot(data=df_filter, palette='cool', x='counts', y=field)\n",
        "    ax1.tick_params(axis='both', which='both', labelsize=12, bottom=True, left=False)\n",
        "    ax1.set_xlabel(f'count', fontsize=13, color = '#333F4B')\n",
        "    ax1.set_ylabel(f'{field}', fontsize=13, color = '#333F4B')\n",
        "\n",
        "    for p in ax1.patches:\n",
        "        percentage = '{:.1f}%'.format(100 * p.get_width()/total)\n",
        "        x = p.get_x() + p.get_width() + 0.02\n",
        "        y = p.get_y() + p.get_height()/2\n",
        "        ax1.annotate(percentage, (x, y))\n",
        "\n",
        "    plt.plot(color=\"white\", lw=3)\n",
        "    fig.suptitle(subtitle, fontsize=18)\n",
        "    plt.show()\n",
        "\n"
      ],
      "metadata": {
        "id": "rAokmeHYeDbV"
      },
      "execution_count": null,
      "outputs": []
    },
    {
      "cell_type": "code",
      "source": [
        "dataset['proto'].unique()"
      ],
      "metadata": {
        "id": "R_JYQqwC4trS",
        "outputId": "467ce714-0aa6-4700-b650-fee292383db6",
        "colab": {
          "base_uri": "https://localhost:8080/"
        }
      },
      "execution_count": null,
      "outputs": [
        {
          "output_type": "execute_result",
          "data": {
            "text/plain": [
              "array(['udp', 'arp', 'tcp', 'ospf', 'others', 'sctp', 'unas'],\n",
              "      dtype=object)"
            ]
          },
          "metadata": {},
          "execution_count": 10
        }
      ]
    },
    {
      "cell_type": "code",
      "source": [
        "bar_plot_data(dataset, 'proto', 'Attacks per protocol')"
      ],
      "metadata": {
        "colab": {
          "base_uri": "https://localhost:8080/",
          "height": 436
        },
        "id": "qwiciyF8eXyt",
        "outputId": "b294e541-d631-4158-ba01-2e9d244fc0b7"
      },
      "execution_count": null,
      "outputs": [
        {
          "output_type": "display_data",
          "data": {
            "text/plain": [
              "<Figure size 500x400 with 1 Axes>"
            ],
            "image/png": "[encoded data removed]"
          },
          "metadata": {}
        }
      ]
    },
    {
      "cell_type": "code",
      "source": [
        "service=dataset.drop(axis=0,index=dataset[dataset['service']==\"-\"].index)\n",
        "bar_plot_data(service, 'service', 'Attacks per service')"
      ],
      "metadata": {
        "colab": {
          "base_uri": "https://localhost:8080/",
          "height": 436
        },
        "id": "K6DiYD3_i4s_",
        "outputId": "b645977a-466f-4c8a-c8ce-b6641dd272f7"
      },
      "execution_count": null,
      "outputs": [
        {
          "output_type": "display_data",
          "data": {
            "text/plain": [
              "<Figure size 500x400 with 1 Axes>"
            ],
            "image/png": "[encoded data removed]"
          },
          "metadata": {}
        }
      ]
    },
    {
      "cell_type": "code",
      "source": [
        "def get_pie_plot_count(df: dict, field: str, subtitle: str):\n",
        "    fig, ax1 = plt.subplots(figsize=(10, 6), dpi=100)\n",
        "    colors = sns.color_palette('cool')\n",
        "    df_filter = df[field].value_counts().rename_axis(field).reset_index(name='counts')\n",
        "    ax1.tick_params(axis='both', which='both', labelsize=12, bottom=True, left=False)\n",
        "    plt.pie(df_filter['counts'], colors=colors, labels=df_filter[field], autopct = '%0.0f%%',\n",
        "            startangle=90,  textprops={'fontsize': 14})\n",
        "\n",
        "    plt.plot(color=\"white\", lw=3)\n",
        "    fig.suptitle(subtitle, fontsize=18)\n",
        "    plt.show()"
      ],
      "metadata": {
        "id": "zc4BohKdzvCI"
      },
      "execution_count": null,
      "outputs": []
    },
    {
      "cell_type": "code",
      "source": [
        "df=dataset.drop(axis=0,index=dataset[dataset['attack_cat']==\"Normal\"].index)\n",
        "get_pie_plot_count(df, 'srcip', 'Attack distribution per Attacking Source IP')"
      ],
      "metadata": {
        "colab": {
          "base_uri": "https://localhost:8080/",
          "height": 189
        },
        "id": "C4TuuwBPyvmQ",
        "outputId": "cb49b393-642b-494d-e51f-e4b21badbddc"
      },
      "execution_count": null,
      "outputs": [
        {
          "output_type": "error",
          "ename": "NameError",
          "evalue": "ignored",
          "traceback": [
            "\u001b[0;31m---------------------------------------------------------------------------\u001b[0m",
            "\u001b[0;31mNameError\u001b[0m                                 Traceback (most recent call last)",
            "\u001b[0;32m<ipython-input-2-baa96ffdb916>\u001b[0m in \u001b[0;36m<cell line: 1>\u001b[0;34m()\u001b[0m\n\u001b[0;32m----> 1\u001b[0;31m \u001b[0mdf\u001b[0m\u001b[0;34m=\u001b[0m\u001b[0mdataset\u001b[0m\u001b[0;34m.\u001b[0m\u001b[0mdrop\u001b[0m\u001b[0;34m(\u001b[0m\u001b[0maxis\u001b[0m\u001b[0;34m=\u001b[0m\u001b[0;36m0\u001b[0m\u001b[0;34m,\u001b[0m\u001b[0mindex\u001b[0m\u001b[0;34m=\u001b[0m\u001b[0mdataset\u001b[0m\u001b[0;34m[\u001b[0m\u001b[0mdataset\u001b[0m\u001b[0;34m[\u001b[0m\u001b[0;34m'attack_cat'\u001b[0m\u001b[0;34m]\u001b[0m\u001b[0;34m==\u001b[0m\u001b[0;34m\"Normal\"\u001b[0m\u001b[0;34m]\u001b[0m\u001b[0;34m.\u001b[0m\u001b[0mindex\u001b[0m\u001b[0;34m)\u001b[0m\u001b[0;34m\u001b[0m\u001b[0;34m\u001b[0m\u001b[0m\n\u001b[0m\u001b[1;32m      2\u001b[0m \u001b[0mget_pie_plot_count\u001b[0m\u001b[0;34m(\u001b[0m\u001b[0mdf\u001b[0m\u001b[0;34m,\u001b[0m \u001b[0;34m'srcip'\u001b[0m\u001b[0;34m,\u001b[0m \u001b[0;34m'Attack distribution per Attacking Source IP'\u001b[0m\u001b[0;34m)\u001b[0m\u001b[0;34m\u001b[0m\u001b[0;34m\u001b[0m\u001b[0m\n",
            "\u001b[0;31mNameError\u001b[0m: name 'dataset' is not defined"
          ]
        }
      ]
    },
    {
      "cell_type": "markdown",
      "source": [
        "Plotting graph for attack"
      ],
      "metadata": {
        "id": "awK8bame8RPy"
      }
    },
    {
      "cell_type": "code",
      "source": [
        "df=dataset.drop(axis=0,index=dataset[dataset['attack_cat']==\"Normal\"].index)\n",
        "get_pie_plot_count(df, 'state', 'Attack distribution at different states')"
      ],
      "metadata": {
        "colab": {
          "base_uri": "https://localhost:8080/",
          "height": 182
        },
        "id": "dXPW2Qyz73yw",
        "outputId": "cbe64390-406b-4420-cac0-fbb152493ac9"
      },
      "execution_count": null,
      "outputs": [
        {
          "output_type": "error",
          "ename": "NameError",
          "evalue": "ignored",
          "traceback": [
            "\u001b[0;31m---------------------------------------------------------------------------\u001b[0m",
            "\u001b[0;31mNameError\u001b[0m                                 Traceback (most recent call last)",
            "\u001b[0;32m<ipython-input-12-903257b44124>\u001b[0m in \u001b[0;36m<cell line: 2>\u001b[0;34m()\u001b[0m\n\u001b[1;32m      1\u001b[0m \u001b[0mdf\u001b[0m\u001b[0;34m=\u001b[0m\u001b[0mdataset\u001b[0m\u001b[0;34m.\u001b[0m\u001b[0mdrop\u001b[0m\u001b[0;34m(\u001b[0m\u001b[0maxis\u001b[0m\u001b[0;34m=\u001b[0m\u001b[0;36m0\u001b[0m\u001b[0;34m,\u001b[0m\u001b[0mindex\u001b[0m\u001b[0;34m=\u001b[0m\u001b[0mdataset\u001b[0m\u001b[0;34m[\u001b[0m\u001b[0mdataset\u001b[0m\u001b[0;34m[\u001b[0m\u001b[0;34m'attack_cat'\u001b[0m\u001b[0;34m]\u001b[0m\u001b[0;34m==\u001b[0m\u001b[0;34m\"Normal\"\u001b[0m\u001b[0;34m]\u001b[0m\u001b[0;34m.\u001b[0m\u001b[0mindex\u001b[0m\u001b[0;34m)\u001b[0m\u001b[0;34m\u001b[0m\u001b[0;34m\u001b[0m\u001b[0m\n\u001b[0;32m----> 2\u001b[0;31m \u001b[0mget_pie_plot_count\u001b[0m\u001b[0;34m(\u001b[0m\u001b[0mdf\u001b[0m\u001b[0;34m,\u001b[0m \u001b[0;34m'state'\u001b[0m\u001b[0;34m,\u001b[0m \u001b[0;34m'Attack distribution at different states'\u001b[0m\u001b[0;34m)\u001b[0m\u001b[0;34m\u001b[0m\u001b[0;34m\u001b[0m\u001b[0m\n\u001b[0m",
            "\u001b[0;31mNameError\u001b[0m: name 'get_pie_plot_count' is not defined"
          ]
        }
      ]
    },
    {
      "cell_type": "code",
      "source": [
        "def get_histplot_central_tendency(df: dict, fields: list):\n",
        "    colors = sns.color_palette('cool')\n",
        "    for field in fields:\n",
        "        f, (ax1) = plt.subplots(figsize=(10, 5), dpi=100)\n",
        "        v_dist_1 = df[field].values\n",
        "\n",
        "        for spline in ['top', 'right', 'left']:\n",
        "            ax1.spines[spline].set_visible(False)\n",
        "\n",
        "        sns.histplot(v_dist_1, ax=ax1, palette=colors, kde=True)\n",
        "\n",
        "        mean=df[field].mean()\n",
        "        median=df[field].median()\n",
        "        mode=df[field].mode().values[0]\n",
        "\n",
        "        ax1.axvline(mean, color='r', linestyle='--', label=\"Mean\")\n",
        "        ax1.axvline(median, color='g', linestyle='-', label=\"Mean\")\n",
        "        ax1.axvline(mode, color='b', linestyle='-', label=\"Mode\")\n",
        "        ax1.tick_params(axis='both', which='both', labelsize=12, bottom=True, left=False)\n",
        "        ax1.set_xlabel(f'count', fontsize=13, color = '#333F4B')\n",
        "        ax1.set_ylabel(f'{field}', fontsize=13, color = '#333F4B')\n",
        "        ax1.legend()\n",
        "        plt.grid(False)\n",
        "        plt.plot(color=\"white\", lw=3)\n",
        "        f.suptitle(f\"Representation Histogram for {field}\", fontsize=18)"
      ],
      "metadata": {
        "id": "dwPz16iP2UwM"
      },
      "execution_count": null,
      "outputs": []
    },
    {
      "cell_type": "markdown",
      "source": [
        "**Plotting Histogram for Live time of packets**"
      ],
      "metadata": {
        "id": "7WMkYYX-85iN"
      }
    },
    {
      "cell_type": "markdown",
      "source": [
        "**sttl - Source to destination time Live Value**\n",
        "  \n",
        "If the value of 'sttl' is from the range of [60-70] or [240-255] then they may be considered to be an attack and the remaining ranges of live time are non-attack\n",
        "\n",
        "\n",
        "**dttl - Destination to source time Live value**\n",
        "       \n",
        "If the range value of 'dttl' is [0-10] or [240-250] then they may be considered as attack and remaining as non-attack\n",
        "    \n",
        "\n"
      ],
      "metadata": {
        "id": "X4IbjBwX6xFp"
      }
    },
    {
      "cell_type": "code",
      "source": [
        "get_histplot_central_tendency(dataset, ['sttl','dttl'])"
      ],
      "metadata": {
        "colab": {
          "base_uri": "https://localhost:8080/",
          "height": 1000
        },
        "id": "Ur2L1P5K558N",
        "outputId": "b759ff69-c292-4e1b-adc0-56ff8e4fb759"
      },
      "execution_count": null,
      "outputs": [
        {
          "output_type": "stream",
          "name": "stderr",
          "text": [
            "<ipython-input-14-15714ee68155>:10: UserWarning: Ignoring `palette` because no `hue` variable has been assigned.\n",
            "  sns.histplot(v_dist_1, ax=ax1, palette=colors, kde=True)\n",
            "<ipython-input-14-15714ee68155>:10: UserWarning: Ignoring `palette` because no `hue` variable has been assigned.\n",
            "  sns.histplot(v_dist_1, ax=ax1, palette=colors, kde=True)\n"
          ]
        },
        {
          "output_type": "display_data",
          "data": {
            "text/plain": [
              "<Figure size 1000x500 with 1 Axes>"
            ],
            "image/png": "[encoded data removed]"
          },
          "metadata": {}
        },
        {
          "output_type": "display_data",
          "data": {
            "text/plain": [
              "<Figure size 1000x500 with 1 Axes>"
            ],
            "image/png": "[encoded data removed]"
          },
          "metadata": {}
        }
      ]
    },
    {
      "cell_type": "markdown",
      "metadata": {
        "id": "n5WeZ0wZkbOZ"
      },
      "source": [
        "Precprocessing the datasets\n",
        "\n"
      ]
    },
    {
      "cell_type": "markdown",
      "metadata": {
        "id": "xvof7E6DlTbP"
      },
      "source": [
        "Dropping the colums with null values\n"
      ]
    },
    {
      "cell_type": "code",
      "execution_count": null,
      "metadata": {
        "colab": {
          "base_uri": "https://localhost:8080/"
        },
        "id": "il0o6HIPR6r0",
        "outputId": "3a7cb5ed-ab0b-4080-9593-a1d62c71f49d"
      },
      "outputs": [
        {
          "output_type": "stream",
          "name": "stdout",
          "text": [
            "srcip               0\n",
            "dstip               0\n",
            "proto               0\n",
            "state               0\n",
            "dur                 0\n",
            "sbytes              0\n",
            "dbytes              0\n",
            "sttl                0\n",
            "dttl                0\n",
            "sloss               0\n",
            "dloss               0\n",
            "service             0\n",
            "Sload               0\n",
            "Dload               0\n",
            "Spkts               0\n",
            "Dpkts               0\n",
            "swin                0\n",
            "dwin                0\n",
            "stcpb               0\n",
            "dtcpb               0\n",
            "smeansz             0\n",
            "dmeansz             0\n",
            "trans_depth         0\n",
            "res_bdy_len         0\n",
            "Sjit                0\n",
            "Djit                0\n",
            "Stime               0\n",
            "Ltime               0\n",
            "Sintpkt             0\n",
            "Dintpkt             0\n",
            "tcprtt              0\n",
            "synack              0\n",
            "ackdat              0\n",
            "is_sm_ips_ports     0\n",
            "ct_state_ttl        0\n",
            "ct_srv_src          0\n",
            "ct_srv_dst          0\n",
            "ct_dst_ltm          0\n",
            "ct_src_ ltm         0\n",
            "ct_src_dport_ltm    0\n",
            "ct_dst_sport_ltm    0\n",
            "ct_dst_src_ltm      0\n",
            "dtype: int64\n"
          ]
        },
        {
          "output_type": "execute_result",
          "data": {
            "text/plain": [
              "(2540047, 42)"
            ]
          },
          "metadata": {},
          "execution_count": 7
        }
      ],
      "source": [
        "X1=X.dropna(axis=1)\n",
        "print(X1.isnull().sum())\n",
        "X1.shape"
      ]
    },
    {
      "cell_type": "markdown",
      "metadata": {
        "id": "wWAZE3oGlaRc"
      },
      "source": [
        "Identifying the datatype of each columns"
      ]
    },
    {
      "cell_type": "code",
      "execution_count": null,
      "metadata": {
        "colab": {
          "base_uri": "https://localhost:8080/"
        },
        "id": "hZNwNE5mFAVq",
        "outputId": "6feb5570-7326-4e49-89d8-1609ddcdd788"
      },
      "outputs": [
        {
          "output_type": "stream",
          "name": "stdout",
          "text": [
            "<class 'pandas.core.frame.DataFrame'>\n",
            "RangeIndex: 2540047 entries, 0 to 2540046\n",
            "Data columns (total 42 columns):\n",
            " #   Column            Dtype  \n",
            "---  ------            -----  \n",
            " 0   srcip             object \n",
            " 1   dstip             object \n",
            " 2   proto             object \n",
            " 3   state             object \n",
            " 4   dur               float64\n",
            " 5   sbytes            int64  \n",
            " 6   dbytes            int64  \n",
            " 7   sttl              int64  \n",
            " 8   dttl              int64  \n",
            " 9   sloss             int64  \n",
            " 10  dloss             int64  \n",
            " 11  service           object \n",
            " 12  Sload             float64\n",
            " 13  Dload             float64\n",
            " 14  Spkts             int64  \n",
            " 15  Dpkts             int64  \n",
            " 16  swin              int64  \n",
            " 17  dwin              int64  \n",
            " 18  stcpb             int64  \n",
            " 19  dtcpb             int64  \n",
            " 20  smeansz           int64  \n",
            " 21  dmeansz           int64  \n",
            " 22  trans_depth       int64  \n",
            " 23  res_bdy_len       int64  \n",
            " 24  Sjit              float64\n",
            " 25  Djit              float64\n",
            " 26  Stime             int64  \n",
            " 27  Ltime             int64  \n",
            " 28  Sintpkt           float64\n",
            " 29  Dintpkt           float64\n",
            " 30  tcprtt            float64\n",
            " 31  synack            float64\n",
            " 32  ackdat            float64\n",
            " 33  is_sm_ips_ports   int64  \n",
            " 34  ct_state_ttl      int64  \n",
            " 35  ct_srv_src        int64  \n",
            " 36  ct_srv_dst        int64  \n",
            " 37  ct_dst_ltm        int64  \n",
            " 38  ct_src_ ltm       int64  \n",
            " 39  ct_src_dport_ltm  int64  \n",
            " 40  ct_dst_sport_ltm  int64  \n",
            " 41  ct_dst_src_ltm    int64  \n",
            "dtypes: float64(10), int64(27), object(5)\n",
            "memory usage: 813.9+ MB\n"
          ]
        }
      ],
      "source": [
        "\n",
        "X1.info()"
      ]
    },
    {
      "cell_type": "code",
      "execution_count": null,
      "metadata": {
        "colab": {
          "base_uri": "https://localhost:8080/"
        },
        "id": "p2gcBiU8T_ln",
        "outputId": "09b3042d-ecea-4b89-ae5c-d286a4eaad73"
      },
      "outputs": [
        {
          "output_type": "stream",
          "name": "stdout",
          "text": [
            "        attack_cat  Label\n",
            "0           Normal      0\n",
            "1           Normal      0\n",
            "2           Normal      0\n",
            "3           Normal      0\n",
            "4           Normal      0\n",
            "...            ...    ...\n",
            "2540042     Normal      0\n",
            "2540043     Normal      0\n",
            "2540044     Normal      0\n",
            "2540045     Normal      0\n",
            "2540046   Exploits      1\n",
            "\n",
            "[2540047 rows x 2 columns]\n"
          ]
        }
      ],
      "source": [
        "print(y)"
      ]
    },
    {
      "cell_type": "markdown",
      "metadata": {
        "id": "pmHk7gXIlie4"
      },
      "source": [
        "Dividing the dataset into Training and Testing set"
      ]
    },
    {
      "cell_type": "code",
      "execution_count": null,
      "metadata": {
        "id": "vLUv9UNG550X"
      },
      "outputs": [],
      "source": [
        "X_train, X_test, y_train, y_test = train_test_split(X1, y, test_size=0.3, random_state=1)"
      ]
    },
    {
      "cell_type": "markdown",
      "metadata": {
        "id": "BWDmb-m-lsKO"
      },
      "source": [
        "Identifying the columns with numerical values and categorical values separately"
      ]
    },
    {
      "cell_type": "code",
      "execution_count": null,
      "metadata": {
        "colab": {
          "base_uri": "https://localhost:8080/"
        },
        "id": "QJLvWbQtotJj",
        "outputId": "2b790840-4e11-42d1-c10e-f1e9965c78cd"
      },
      "outputs": [
        {
          "output_type": "stream",
          "name": "stdout",
          "text": [
            "Index(['dur', 'sbytes', 'dbytes', 'sttl', 'dttl', 'sloss', 'dloss', 'Sload',\n",
            "       'Dload', 'Spkts', 'Dpkts', 'swin', 'dwin', 'stcpb', 'dtcpb', 'smeansz',\n",
            "       'dmeansz', 'trans_depth', 'res_bdy_len', 'Sjit', 'Djit', 'Stime',\n",
            "       'Ltime', 'Sintpkt', 'Dintpkt', 'tcprtt', 'synack', 'ackdat',\n",
            "       'is_sm_ips_ports', 'ct_state_ttl', 'ct_srv_src', 'ct_srv_dst',\n",
            "       'ct_dst_ltm', 'ct_src_ ltm', 'ct_src_dport_ltm', 'ct_dst_sport_ltm',\n",
            "       'ct_dst_src_ltm'],\n",
            "      dtype='object')\n"
          ]
        }
      ],
      "source": [
        "numerical_cols = X_train.select_dtypes(include=['int64','uint','float64']).columns\n",
        "print(numerical_cols)"
      ]
    },
    {
      "cell_type": "code",
      "execution_count": null,
      "metadata": {
        "colab": {
          "base_uri": "https://localhost:8080/"
        },
        "id": "x9CbNOao_OCr",
        "outputId": "55d19b78-c225-4383-fdc8-166997fe973c"
      },
      "outputs": [
        {
          "output_type": "stream",
          "name": "stdout",
          "text": [
            "Index(['srcip', 'dstip', 'proto', 'state', 'service'], dtype='object')\n"
          ]
        }
      ],
      "source": [
        "categorical_cols = X_train.select_dtypes(include=['object','bool']).columns\n",
        "print(categorical_cols)"
      ]
    },
    {
      "cell_type": "code",
      "execution_count": null,
      "metadata": {
        "id": "a2a-xIKM_kn-"
      },
      "outputs": [],
      "source": [
        "from sklearn.compose import ColumnTransformer\n",
        "from sklearn.preprocessing import LabelEncoder,StandardScaler,OneHotEncoder\n",
        "\n",
        "Le=LabelEncoder()\n",
        "StScaler=StandardScaler()\n",
        "Ohe=OneHotEncoder()"
      ]
    },
    {
      "cell_type": "code",
      "execution_count": null,
      "metadata": {
        "id": "TtpoKLBdoai2"
      },
      "outputs": [],
      "source": [
        "categorical_cols = X_train.select_dtypes(include=['object','bool']).columns\n",
        "X_train=X_train.drop(axis=1,columns=categorical_cols)\n",
        "X_test=X_test.drop(axis=1,columns=categorical_cols)"
      ]
    },
    {
      "cell_type": "code",
      "execution_count": null,
      "metadata": {
        "id": "vsOq-xbZcJWU"
      },
      "outputs": [],
      "source": [
        "categorical_cols=categorical_cols = X_train.select_dtypes(include=['object','bool']).columns"
      ]
    },
    {
      "cell_type": "code",
      "execution_count": null,
      "metadata": {
        "colab": {
          "base_uri": "https://localhost:8080/",
          "height": 118
        },
        "id": "sGULgpLrnPlL",
        "outputId": "f31c6710-b9d5-46a8-a678-c12c36d4a8fc"
      },
      "outputs": [
        {
          "output_type": "execute_result",
          "data": {
            "text/plain": [
              "ColumnTransformer(transformers=[('ohe', OneHotEncoder(drop='first'),\n",
              "                                 Index([], dtype='object')),\n",
              "                                ('scale', StandardScaler(),\n",
              "                                 Index(['dur', 'sbytes', 'dbytes', 'sttl', 'dttl', 'sloss', 'dloss', 'Sload',\n",
              "       'Dload', 'Spkts', 'Dpkts', 'swin', 'dwin', 'stcpb', 'dtcpb', 'smeansz',\n",
              "       'dmeansz', 'trans_depth', 'res_bdy_len', 'Sjit', 'Djit', 'Stime',\n",
              "       'Ltime', 'Sintpkt', 'Dintpkt', 'tcprtt', 'synack', 'ackdat',\n",
              "       'is_sm_ips_ports', 'ct_state_ttl', 'ct_srv_src', 'ct_srv_dst',\n",
              "       'ct_dst_ltm', 'ct_src_ ltm', 'ct_src_dport_ltm', 'ct_dst_sport_ltm',\n",
              "       'ct_dst_src_ltm'],\n",
              "      dtype='object'))])"
            ],
            "text/html": [
              "<style>#sk-container-id-1 {color: black;background-color: white;}#sk-container-id-1 pre{padding: 0;}#sk-container-id-1 div.sk-toggleable {background-color: white;}#sk-container-id-1 label.sk-toggleable__label {cursor: pointer;display: block;width: 100%;margin-bottom: 0;padding: 0.3em;box-sizing: border-box;text-align: center;}#sk-container-id-1 label.sk-toggleable__label-arrow:before {content: \"▸\";float: left;margin-right: 0.25em;color: #696969;}#sk-container-id-1 label.sk-toggleable__label-arrow:hover:before {color: black;}#sk-container-id-1 div.sk-estimator:hover label.sk-toggleable__label-arrow:before {color: black;}#sk-container-id-1 div.sk-toggleable__content {max-height: 0;max-width: 0;overflow: hidden;text-align: left;background-color: #f0f8ff;}#sk-container-id-1 div.sk-toggleable__content pre {margin: 0.2em;color: black;border-radius: 0.25em;background-color: #f0f8ff;}#sk-container-id-1 input.sk-toggleable__control:checked~div.sk-toggleable__content {max-height: 200px;max-width: 100%;overflow: auto;}#sk-container-id-1 input.sk-toggleable__control:checked~label.sk-toggleable__label-arrow:before {content: \"▾\";}#sk-container-id-1 div.sk-estimator input.sk-toggleable__control:checked~label.sk-toggleable__label {background-color: #d4ebff;}#sk-container-id-1 div.sk-label input.sk-toggleable__control:checked~label.sk-toggleable__label {background-color: #d4ebff;}#sk-container-id-1 input.sk-hidden--visually {border: 0;clip: rect(1px 1px 1px 1px);clip: rect(1px, 1px, 1px, 1px);height: 1px;margin: -1px;overflow: hidden;padding: 0;position: absolute;width: 1px;}#sk-container-id-1 div.sk-estimator {font-family: monospace;background-color: #f0f8ff;border: 1px dotted black;border-radius: 0.25em;box-sizing: border-box;margin-bottom: 0.5em;}#sk-container-id-1 div.sk-estimator:hover {background-color: #d4ebff;}#sk-container-id-1 div.sk-parallel-item::after {content: \"\";width: 100%;border-bottom: 1px solid gray;flex-grow: 1;}#sk-container-id-1 div.sk-label:hover label.sk-toggleable__label {background-color: #d4ebff;}#sk-container-id-1 div.sk-serial::before {content: \"\";position: absolute;border-left: 1px solid gray;box-sizing: border-box;top: 0;bottom: 0;left: 50%;z-index: 0;}#sk-container-id-1 div.sk-serial {display: flex;flex-direction: column;align-items: center;background-color: white;padding-right: 0.2em;padding-left: 0.2em;position: relative;}#sk-container-id-1 div.sk-item {position: relative;z-index: 1;}#sk-container-id-1 div.sk-parallel {display: flex;align-items: stretch;justify-content: center;background-color: white;position: relative;}#sk-container-id-1 div.sk-item::before, #sk-container-id-1 div.sk-parallel-item::before {content: \"\";position: absolute;border-left: 1px solid gray;box-sizing: border-box;top: 0;bottom: 0;left: 50%;z-index: -1;}#sk-container-id-1 div.sk-parallel-item {display: flex;flex-direction: column;z-index: 1;position: relative;background-color: white;}#sk-container-id-1 div.sk-parallel-item:first-child::after {align-self: flex-end;width: 50%;}#sk-container-id-1 div.sk-parallel-item:last-child::after {align-self: flex-start;width: 50%;}#sk-container-id-1 div.sk-parallel-item:only-child::after {width: 0;}#sk-container-id-1 div.sk-dashed-wrapped {border: 1px dashed gray;margin: 0 0.4em 0.5em 0.4em;box-sizing: border-box;padding-bottom: 0.4em;background-color: white;}#sk-container-id-1 div.sk-label label {font-family: monospace;font-weight: bold;display: inline-block;line-height: 1.2em;}#sk-container-id-1 div.sk-label-container {text-align: center;}#sk-container-id-1 div.sk-container {/* jupyter's `normalize.less` sets `[hidden] { display: none; }` but bootstrap.min.css set `[hidden] { display: none !important; }` so we also need the `!important` here to be able to override the default hidden behavior on the sphinx rendered scikit-learn.org. See: https://github.com/scikit-learn/scikit-learn/issues/21755 */display: inline-block !important;position: relative;}#sk-container-id-1 div.sk-text-repr-fallback {display: none;}</style><div id=\"sk-container-id-1\" class=\"sk-top-container\"><div class=\"sk-text-repr-fallback\"><pre>ColumnTransformer(transformers=[(&#x27;ohe&#x27;, OneHotEncoder(drop=&#x27;first&#x27;),\n",
              "                                 Index([], dtype=&#x27;object&#x27;)),\n",
              "                                (&#x27;scale&#x27;, StandardScaler(),\n",
              "                                 Index([&#x27;dur&#x27;, &#x27;sbytes&#x27;, &#x27;dbytes&#x27;, &#x27;sttl&#x27;, &#x27;dttl&#x27;, &#x27;sloss&#x27;, &#x27;dloss&#x27;, &#x27;Sload&#x27;,\n",
              "       &#x27;Dload&#x27;, &#x27;Spkts&#x27;, &#x27;Dpkts&#x27;, &#x27;swin&#x27;, &#x27;dwin&#x27;, &#x27;stcpb&#x27;, &#x27;dtcpb&#x27;, &#x27;smeansz&#x27;,\n",
              "       &#x27;dmeansz&#x27;, &#x27;trans_depth&#x27;, &#x27;res_bdy_len&#x27;, &#x27;Sjit&#x27;, &#x27;Djit&#x27;, &#x27;Stime&#x27;,\n",
              "       &#x27;Ltime&#x27;, &#x27;Sintpkt&#x27;, &#x27;Dintpkt&#x27;, &#x27;tcprtt&#x27;, &#x27;synack&#x27;, &#x27;ackdat&#x27;,\n",
              "       &#x27;is_sm_ips_ports&#x27;, &#x27;ct_state_ttl&#x27;, &#x27;ct_srv_src&#x27;, &#x27;ct_srv_dst&#x27;,\n",
              "       &#x27;ct_dst_ltm&#x27;, &#x27;ct_src_ ltm&#x27;, &#x27;ct_src_dport_ltm&#x27;, &#x27;ct_dst_sport_ltm&#x27;,\n",
              "       &#x27;ct_dst_src_ltm&#x27;],\n",
              "      dtype=&#x27;object&#x27;))])</pre><b>In a Jupyter environment, please rerun this cell to show the HTML representation or trust the notebook. <br />On GitHub, the HTML representation is unable to render, please try loading this page with nbviewer.org.</b></div><div class=\"sk-container\" hidden><div class=\"sk-item sk-dashed-wrapped\"><div class=\"sk-label-container\"><div class=\"sk-label sk-toggleable\"><input class=\"sk-toggleable__control sk-hidden--visually\" id=\"sk-estimator-id-1\" type=\"checkbox\" ><label for=\"sk-estimator-id-1\" class=\"sk-toggleable__label sk-toggleable__label-arrow\">ColumnTransformer</label><div class=\"sk-toggleable__content\"><pre>ColumnTransformer(transformers=[(&#x27;ohe&#x27;, OneHotEncoder(drop=&#x27;first&#x27;),\n",
              "                                 Index([], dtype=&#x27;object&#x27;)),\n",
              "                                (&#x27;scale&#x27;, StandardScaler(),\n",
              "                                 Index([&#x27;dur&#x27;, &#x27;sbytes&#x27;, &#x27;dbytes&#x27;, &#x27;sttl&#x27;, &#x27;dttl&#x27;, &#x27;sloss&#x27;, &#x27;dloss&#x27;, &#x27;Sload&#x27;,\n",
              "       &#x27;Dload&#x27;, &#x27;Spkts&#x27;, &#x27;Dpkts&#x27;, &#x27;swin&#x27;, &#x27;dwin&#x27;, &#x27;stcpb&#x27;, &#x27;dtcpb&#x27;, &#x27;smeansz&#x27;,\n",
              "       &#x27;dmeansz&#x27;, &#x27;trans_depth&#x27;, &#x27;res_bdy_len&#x27;, &#x27;Sjit&#x27;, &#x27;Djit&#x27;, &#x27;Stime&#x27;,\n",
              "       &#x27;Ltime&#x27;, &#x27;Sintpkt&#x27;, &#x27;Dintpkt&#x27;, &#x27;tcprtt&#x27;, &#x27;synack&#x27;, &#x27;ackdat&#x27;,\n",
              "       &#x27;is_sm_ips_ports&#x27;, &#x27;ct_state_ttl&#x27;, &#x27;ct_srv_src&#x27;, &#x27;ct_srv_dst&#x27;,\n",
              "       &#x27;ct_dst_ltm&#x27;, &#x27;ct_src_ ltm&#x27;, &#x27;ct_src_dport_ltm&#x27;, &#x27;ct_dst_sport_ltm&#x27;,\n",
              "       &#x27;ct_dst_src_ltm&#x27;],\n",
              "      dtype=&#x27;object&#x27;))])</pre></div></div></div><div class=\"sk-parallel\"><div class=\"sk-parallel-item\"><div class=\"sk-item\"><div class=\"sk-label-container\"><div class=\"sk-label sk-toggleable\"><input class=\"sk-toggleable__control sk-hidden--visually\" id=\"sk-estimator-id-2\" type=\"checkbox\" ><label for=\"sk-estimator-id-2\" class=\"sk-toggleable__label sk-toggleable__label-arrow\">ohe</label><div class=\"sk-toggleable__content\"><pre>Index([], dtype=&#x27;object&#x27;)</pre></div></div></div><div class=\"sk-serial\"><div class=\"sk-item\"><div class=\"sk-estimator sk-toggleable\"><input class=\"sk-toggleable__control sk-hidden--visually\" id=\"sk-estimator-id-3\" type=\"checkbox\" ><label for=\"sk-estimator-id-3\" class=\"sk-toggleable__label sk-toggleable__label-arrow\">OneHotEncoder</label><div class=\"sk-toggleable__content\"><pre>OneHotEncoder(drop=&#x27;first&#x27;)</pre></div></div></div></div></div></div><div class=\"sk-parallel-item\"><div class=\"sk-item\"><div class=\"sk-label-container\"><div class=\"sk-label sk-toggleable\"><input class=\"sk-toggleable__control sk-hidden--visually\" id=\"sk-estimator-id-4\" type=\"checkbox\" ><label for=\"sk-estimator-id-4\" class=\"sk-toggleable__label sk-toggleable__label-arrow\">scale</label><div class=\"sk-toggleable__content\"><pre>Index([&#x27;dur&#x27;, &#x27;sbytes&#x27;, &#x27;dbytes&#x27;, &#x27;sttl&#x27;, &#x27;dttl&#x27;, &#x27;sloss&#x27;, &#x27;dloss&#x27;, &#x27;Sload&#x27;,\n",
              "       &#x27;Dload&#x27;, &#x27;Spkts&#x27;, &#x27;Dpkts&#x27;, &#x27;swin&#x27;, &#x27;dwin&#x27;, &#x27;stcpb&#x27;, &#x27;dtcpb&#x27;, &#x27;smeansz&#x27;,\n",
              "       &#x27;dmeansz&#x27;, &#x27;trans_depth&#x27;, &#x27;res_bdy_len&#x27;, &#x27;Sjit&#x27;, &#x27;Djit&#x27;, &#x27;Stime&#x27;,\n",
              "       &#x27;Ltime&#x27;, &#x27;Sintpkt&#x27;, &#x27;Dintpkt&#x27;, &#x27;tcprtt&#x27;, &#x27;synack&#x27;, &#x27;ackdat&#x27;,\n",
              "       &#x27;is_sm_ips_ports&#x27;, &#x27;ct_state_ttl&#x27;, &#x27;ct_srv_src&#x27;, &#x27;ct_srv_dst&#x27;,\n",
              "       &#x27;ct_dst_ltm&#x27;, &#x27;ct_src_ ltm&#x27;, &#x27;ct_src_dport_ltm&#x27;, &#x27;ct_dst_sport_ltm&#x27;,\n",
              "       &#x27;ct_dst_src_ltm&#x27;],\n",
              "      dtype=&#x27;object&#x27;)</pre></div></div></div><div class=\"sk-serial\"><div class=\"sk-item\"><div class=\"sk-estimator sk-toggleable\"><input class=\"sk-toggleable__control sk-hidden--visually\" id=\"sk-estimator-id-5\" type=\"checkbox\" ><label for=\"sk-estimator-id-5\" class=\"sk-toggleable__label sk-toggleable__label-arrow\">StandardScaler</label><div class=\"sk-toggleable__content\"><pre>StandardScaler()</pre></div></div></div></div></div></div></div></div></div></div>"
            ]
          },
          "metadata": {},
          "execution_count": 49
        }
      ],
      "source": [
        "# define the transformation methods for the columns\n",
        "t = [('ohe', OneHotEncoder(drop='first'), categorical_cols),\n",
        "    ('scale', StandardScaler(), numerical_cols)]\n",
        "\n",
        "col_trans = ColumnTransformer(transformers=t)\n",
        "\n",
        "# fit the transformation on training data\n",
        "col_trans.fit(X_train)"
      ]
    },
    {
      "cell_type": "code",
      "execution_count": null,
      "metadata": {
        "id": "dpEBqpJRnhLD"
      },
      "outputs": [],
      "source": [
        "X_train_transform = col_trans.transform(X_train)"
      ]
    },
    {
      "cell_type": "code",
      "execution_count": null,
      "metadata": {
        "id": "kxfRiVZrnyBn",
        "colab": {
          "base_uri": "https://localhost:8080/",
          "height": 449
        },
        "outputId": "636535de-7aa8-40ea-91fd-46471b872ace"
      },
      "outputs": [
        {
          "output_type": "display_data",
          "data": {
            "text/plain": [
              "<Figure size 640x480 with 1 Axes>"
            ],
            "image/png": "[encoded data removed]"
          },
          "metadata": {}
        }
      ],
      "source": [
        "from sklearn.decomposition import PCA\n",
        "\n",
        "X_test_transform=col_trans.fit_transform(X_test)\n",
        "\n",
        "pca = PCA(n_components=2)\n",
        "X_pca = pca.fit_transform(X_test_transform)\n",
        "\n",
        "# Visualize the transformed data\n",
        "plt.scatter(X_pca[:, 0], X_pca[:, 1])\n",
        "plt.xlabel('Principal Component 1')\n",
        "plt.ylabel('Principal Component 2')\n",
        "plt.show()"
      ]
    },
    {
      "cell_type": "code",
      "execution_count": null,
      "metadata": {
        "id": "FtRt-A_pAPt7"
      },
      "outputs": [],
      "source": [
        "#X_train_transform = X_train\n",
        "#X_test_transform = X_test\n",
        "#X_train_transform[categorical_cols]=X_train_transform[categorical_cols].apply(Ohe.fit_transform)\n",
        "#X_test_transform[categorical_cols]=X_test_transform[categorical_cols].apply(Ohe.fit_transform)\n",
        "#X_train_transform[numerical_cols]=StScaler.fit_transform(X_train_transform[numerical_cols])\n",
        "#X_test_transform[numerical_cols]=StScaler.fit_transform(X_test_transform[numerical_cols])"
      ]
    },
    {
      "cell_type": "code",
      "execution_count": null,
      "metadata": {
        "colab": {
          "base_uri": "https://localhost:8080/"
        },
        "id": "qWU5Sv6Qwb8e",
        "outputId": "37aa265e-2429-467e-d73b-19b3e56a07ff"
      },
      "outputs": [
        {
          "name": "stdout",
          "output_type": "stream",
          "text": [
            "(1778032, 37)\n",
            "(762015, 37)\n"
          ]
        }
      ],
      "source": [
        "print(X_train_transform.shape)\n",
        "print(X_test_transform.shape)"
      ]
    },
    {
      "cell_type": "code",
      "execution_count": null,
      "metadata": {
        "colab": {
          "base_uri": "https://localhost:8080/"
        },
        "id": "ma29nCrMwEfF",
        "outputId": "76eb5a1d-06d4-4eb7-891d-1214a3007562"
      },
      "outputs": [
        {
          "data": {
            "text/plain": [
              "array([[-0.04515627, -0.02708044, -0.0450351 , ..., -0.42978502,\n",
              "        -0.42001033, -0.51924356],\n",
              "       [-0.04830075, -0.07759971, -0.22573975, ..., -0.42978502,\n",
              "        -0.42001033, -0.43038832],\n",
              "       [-0.04743078, -0.06830924, -0.21915124, ..., -0.07550362,\n",
              "         0.06622657, -0.07496734],\n",
              "       ...,\n",
              "       [-0.04827709, -0.07759971, -0.22573975, ..., -0.42978502,\n",
              "        -0.42001033, -0.51924356],\n",
              "       [-0.03418094,  0.61336511, -0.20644748, ..., -0.42978502,\n",
              "        -0.42001033, -0.51924356],\n",
              "       [-0.03794531,  0.09891925, -0.15091216, ..., -0.42978502,\n",
              "        -0.42001033, -0.51924356]])"
            ]
          },
          "execution_count": 21,
          "metadata": {},
          "output_type": "execute_result"
        }
      ],
      "source": [
        "X_train_transform"
      ]
    },
    {
      "cell_type": "code",
      "execution_count": null,
      "metadata": {
        "colab": {
          "base_uri": "https://localhost:8080/"
        },
        "id": "pfZWnbSaipmA",
        "outputId": "9dce668c-c7fd-4f47-9c23-cc7857d2e510"
      },
      "outputs": [
        {
          "name": "stdout",
          "output_type": "stream",
          "text": [
            "Index(['attack_cat', 'Label'], dtype='object')\n"
          ]
        },
        {
          "data": {
            "text/plain": [
              "array([0, 1])"
            ]
          },
          "execution_count": 22,
          "metadata": {},
          "output_type": "execute_result"
        }
      ],
      "source": [
        "print(y.keys())\n",
        "pd.unique(y.iloc[:,0])\n",
        "pd.unique(y.iloc[:,1])"
      ]
    },
    {
      "cell_type": "code",
      "execution_count": null,
      "metadata": {
        "id": "M1W8NkkChfEw"
      },
      "outputs": [],
      "source": [
        "y1_train=y_train['attack_cat']\n",
        "y2_train=y_train['Label']\n",
        "y1_test=y_test['attack_cat']\n",
        "y2_test=y_test['Label']"
      ]
    },
    {
      "cell_type": "code",
      "execution_count": null,
      "metadata": {
        "colab": {
          "base_uri": "https://localhost:8080/"
        },
        "id": "LwNSoLAPv7aW",
        "outputId": "50614de7-c9c0-46bf-923f-24bc6615c47d"
      },
      "outputs": [
        {
          "data": {
            "text/plain": [
              "2532897     Normal\n",
              "1233478     Normal\n",
              "472406      Normal\n",
              "2092498     Normal\n",
              "2032025    Generic\n",
              "            ...   \n",
              "2468555     Normal\n",
              "836489      Normal\n",
              "491263      Normal\n",
              "491755      Normal\n",
              "128037      Normal\n",
              "Name: attack_cat, Length: 1778032, dtype: object"
            ]
          },
          "execution_count": 24,
          "metadata": {},
          "output_type": "execute_result"
        }
      ],
      "source": [
        "y1_train"
      ]
    },
    {
      "cell_type": "code",
      "execution_count": null,
      "metadata": {
        "colab": {
          "base_uri": "https://localhost:8080/"
        },
        "id": "p0fPrQ9MEhub",
        "outputId": "f5c58fa1-a3e1-4c93-9b77-540be1098680"
      },
      "outputs": [
        {
          "data": {
            "text/plain": [
              "2532897    0\n",
              "1233478    0\n",
              "472406     0\n",
              "2092498    0\n",
              "2032025    1\n",
              "          ..\n",
              "2468555    0\n",
              "836489     0\n",
              "491263     0\n",
              "491755     0\n",
              "128037     0\n",
              "Name: Label, Length: 1778032, dtype: int64"
            ]
          },
          "execution_count": 25,
          "metadata": {},
          "output_type": "execute_result"
        }
      ],
      "source": [
        "y2_train"
      ]
    },
    {
      "cell_type": "code",
      "execution_count": null,
      "metadata": {
        "id": "L8IgCdiciNiq"
      },
      "outputs": [],
      "source": [
        "y1_train_transform=Le.fit_transform(y1_train)\n",
        "y2_train_transform=Le.fit_transform(y2_train)\n",
        "y1_test_transform=Le.fit_transform(y1_test)\n",
        "y2_test_transform=Le.fit_transform(y2_test)"
      ]
    },
    {
      "cell_type": "code",
      "execution_count": null,
      "metadata": {
        "colab": {
          "base_uri": "https://localhost:8080/"
        },
        "id": "ucvQjxwHqISz",
        "outputId": "9adad52e-ed5e-4299-f7e7-028df862e4c1"
      },
      "outputs": [
        {
          "name": "stdout",
          "output_type": "stream",
          "text": [
            "[6 6 6 ... 6 6 6]\n",
            "[0 0 0 ... 0 0 0]\n"
          ]
        }
      ],
      "source": [
        "print(y1_train_transform)\n",
        "print(y2_train_transform)"
      ]
    },
    {
      "cell_type": "markdown",
      "metadata": {
        "id": "xztHci_gKDtj"
      },
      "source": [
        "**Training Machine Learning Models**\n",
        "1. Logistic Regression\n",
        "2. Desision Tree\n",
        "3. Random Forest\n"
      ]
    },
    {
      "cell_type": "code",
      "execution_count": null,
      "metadata": {
        "id": "v-7_bGRsKwOa"
      },
      "outputs": [],
      "source": [
        "from sklearn.linear_model import LogisticRegression\n",
        "from sklearn.tree import DecisionTreeClassifier\n",
        "from sklearn.ensemble import RandomForestClassifier\n",
        "from sklearn.metrics import precision_score, recall_score, f1_score, accuracy_score\n",
        "from sklearn.metrics import confusion_matrix, classification_report"
      ]
    },
    {
      "cell_type": "code",
      "execution_count": null,
      "metadata": {
        "id": "RvOTQDyoecdC"
      },
      "outputs": [],
      "source": [
        "models = [('LogisticRegression', LogisticRegression(random_state=123, max_iter=5000, multi_class = \"ovr\")),\n",
        "          ('DecisionTree', DecisionTreeClassifier(random_state=123)),\n",
        "          ('RandomForest', RandomForestClassifier(random_state=123)),\n",
        "         ]"
      ]
    },
    {
      "cell_type": "code",
      "execution_count": null,
      "metadata": {
        "colab": {
          "base_uri": "https://localhost:8080/"
        },
        "id": "x6UudN8he8SI",
        "outputId": "7d73d0ca-a392-4ed2-db37-7c7cdce76109"
      },
      "outputs": [
        {
          "name": "stdout",
          "output_type": "stream",
          "text": [
            "LogisticRegression(max_iter=5000, multi_class='ovr', random_state=123)\n",
            "DecisionTreeClassifier(random_state=123)\n",
            "RandomForestClassifier(random_state=123)\n"
          ]
        }
      ],
      "source": [
        "for model_name, clf in models:\n",
        "    print(clf)"
      ]
    },
    {
      "cell_type": "code",
      "execution_count": null,
      "metadata": {
        "id": "TIv7hmqJfBy6"
      },
      "outputs": [],
      "source": [
        "# define several lists and dataframe to store the CV results and evaluation results on testing data\n",
        "model_names_list = []\n",
        "cv_fit_time_mean_list = []\n",
        "cv_accuracy_mean_list = []\n",
        "cv_precision_mean_list = []\n",
        "cv_recall_mean_list = []\n",
        "cv_f1_mean_list = []\n",
        "\n",
        "test_accuracy_list = []\n",
        "test_precision_list = []\n",
        "test_recall_list = []\n",
        "test_f1_list = []\n",
        "\n",
        "for model_name, clf in models:\n",
        "\n",
        "     # ==== Step 1: Evaluation on Testing data =====\n",
        "\n",
        "    # fit model\n",
        "    clf.fit(X=X_train_transform, y=y1_train_transform)\n",
        "\n",
        "    # predition on testing data\n",
        "\n",
        "    # predicted label or class\n",
        "    y_pred_class = clf.predict(X=X_test_transform)\n",
        "\n",
        "    # predicted probability of the label 1\n",
        "    y_pred_score = clf.predict_proba(X=X_test_transform)[:, 1]\n",
        "\n",
        "    # append model name\n",
        "    model_names_list.append(model_name)\n",
        "\n",
        "    # accuracy\n",
        "    accuracy_ontest = accuracy_score(y_true=y1_test_transform, y_pred=y_pred_class)\n",
        "\n",
        "    # precision score\n",
        "    precision_ontest = precision_score(y_true=y1_test_transform, y_pred=y_pred_class, average = 'micro')\n",
        "\n",
        "    # recall score\n",
        "    recall_ontest = recall_score(y_true=y1_test_transform, y_pred=y_pred_class, average = 'micro')\n",
        "\n",
        "    # F1 score\n",
        "    f1_ontest = f1_score(y_true=y1_test_transform, y_pred=y_pred_class, average = 'micro')\n",
        "\n",
        "\n",
        "    # store the above values\n",
        "    test_accuracy_list.append(accuracy_ontest)\n",
        "    test_precision_list.append(precision_ontest)\n",
        "    test_recall_list.append(recall_ontest)\n",
        "    test_f1_list.append(f1_ontest)"
      ]
    },
    {
      "cell_type": "code",
      "execution_count": null,
      "metadata": {
        "colab": {
          "base_uri": "https://localhost:8080/",
          "height": 143
        },
        "id": "nuSdT6vbt3uz",
        "outputId": "199d0cbe-c871-4fbd-e6dc-88cd4e8ad509"
      },
      "outputs": [
        {
          "data": {
            "text/html": [
              "\n",
              "  <div id=\"df-844ac684-7527-42f1-96d3-a08210f80894\">\n",
              "    <div class=\"colab-df-container\">\n",
              "      <div>\n",
              "<style scoped>\n",
              "    .dataframe tbody tr th:only-of-type {\n",
              "        vertical-align: middle;\n",
              "    }\n",
              "\n",
              "    .dataframe tbody tr th {\n",
              "        vertical-align: top;\n",
              "    }\n",
              "\n",
              "    .dataframe thead th {\n",
              "        text-align: right;\n",
              "    }\n",
              "</style>\n",
              "<table border=\"1\" class=\"dataframe\">\n",
              "  <thead>\n",
              "    <tr style=\"text-align: right;\">\n",
              "      <th></th>\n",
              "      <th>Model Name</th>\n",
              "      <th>Test Accuracy</th>\n",
              "      <th>Test Precision</th>\n",
              "      <th>Test Recall</th>\n",
              "      <th>Test F1</th>\n",
              "    </tr>\n",
              "  </thead>\n",
              "  <tbody>\n",
              "    <tr>\n",
              "      <th>0</th>\n",
              "      <td>LogisticRegression</td>\n",
              "      <td>0.966036</td>\n",
              "      <td>0.966036</td>\n",
              "      <td>0.966036</td>\n",
              "      <td>0.966036</td>\n",
              "    </tr>\n",
              "    <tr>\n",
              "      <th>2</th>\n",
              "      <td>RandomForest</td>\n",
              "      <td>0.886221</td>\n",
              "      <td>0.886221</td>\n",
              "      <td>0.886221</td>\n",
              "      <td>0.886221</td>\n",
              "    </tr>\n",
              "    <tr>\n",
              "      <th>1</th>\n",
              "      <td>DecisionTree</td>\n",
              "      <td>0.880513</td>\n",
              "      <td>0.880513</td>\n",
              "      <td>0.880513</td>\n",
              "      <td>0.880513</td>\n",
              "    </tr>\n",
              "  </tbody>\n",
              "</table>\n",
              "</div>\n",
              "      <button class=\"colab-df-convert\" onclick=\"convertToInteractive('df-844ac684-7527-42f1-96d3-a08210f80894')\"\n",
              "              title=\"Convert this dataframe to an interactive table.\"\n",
              "              style=\"display:none;\">\n",
              "        \n",
              "  <svg xmlns=\"http://www.w3.org/2000/svg\" height=\"24px\"viewBox=\"0 0 24 24\"\n",
              "       width=\"24px\">\n",
              "    <path d=\"M0 0h24v24H0V0z\" fill=\"none\"/>\n",
              "    <path d=\"M18.56 5.44l.94 2.06.94-2.06 2.06-.94-2.06-.94-.94-2.06-.94 2.06-2.06.94zm-11 1L8.5 8.5l.94-2.06 2.06-.94-2.06-.94L8.5 2.5l-.94 2.06-2.06.94zm10 10l.94 2.06.94-2.06 2.06-.94-2.06-.94-.94-2.06-.94 2.06-2.06.94z\"/><path d=\"M17.41 7.96l-1.37-1.37c-.4-.4-.92-.59-1.43-.59-.52 0-1.04.2-1.43.59L10.3 9.45l-7.72 7.72c-.78.78-.78 2.05 0 2.83L4 21.41c.39.39.9.59 1.41.59.51 0 1.02-.2 1.41-.59l7.78-7.78 2.81-2.81c.8-.78.8-2.07 0-2.86zM5.41 20L4 18.59l7.72-7.72 1.47 1.35L5.41 20z\"/>\n",
              "  </svg>\n",
              "      </button>\n",
              "      \n",
              "  <style>\n",
              "    .colab-df-container {\n",
              "      display:flex;\n",
              "      flex-wrap:wrap;\n",
              "      gap: 12px;\n",
              "    }\n",
              "\n",
              "    .colab-df-convert {\n",
              "      background-color: #E8F0FE;\n",
              "      border: none;\n",
              "      border-radius: 50%;\n",
              "      cursor: pointer;\n",
              "      display: none;\n",
              "      fill: #1967D2;\n",
              "      height: 32px;\n",
              "      padding: 0 0 0 0;\n",
              "      width: 32px;\n",
              "    }\n",
              "\n",
              "    .colab-df-convert:hover {\n",
              "      background-color: #E2EBFA;\n",
              "      box-shadow: 0px 1px 2px rgba(60, 64, 67, 0.3), 0px 1px 3px 1px rgba(60, 64, 67, 0.15);\n",
              "      fill: #174EA6;\n",
              "    }\n",
              "\n",
              "    [theme=dark] .colab-df-convert {\n",
              "      background-color: #3B4455;\n",
              "      fill: #D2E3FC;\n",
              "    }\n",
              "\n",
              "    [theme=dark] .colab-df-convert:hover {\n",
              "      background-color: #434B5C;\n",
              "      box-shadow: 0px 1px 3px 1px rgba(0, 0, 0, 0.15);\n",
              "      filter: drop-shadow(0px 1px 2px rgba(0, 0, 0, 0.3));\n",
              "      fill: #FFFFFF;\n",
              "    }\n",
              "  </style>\n",
              "\n",
              "      <script>\n",
              "        const buttonEl =\n",
              "          document.querySelector('#df-844ac684-7527-42f1-96d3-a08210f80894 button.colab-df-convert');\n",
              "        buttonEl.style.display =\n",
              "          google.colab.kernel.accessAllowed ? 'block' : 'none';\n",
              "\n",
              "        async function convertToInteractive(key) {\n",
              "          const element = document.querySelector('#df-844ac684-7527-42f1-96d3-a08210f80894');\n",
              "          const dataTable =\n",
              "            await google.colab.kernel.invokeFunction('convertToInteractive',\n",
              "                                                     [key], {});\n",
              "          if (!dataTable) return;\n",
              "\n",
              "          const docLinkHtml = 'Like what you see? Visit the ' +\n",
              "            '<a target=\"_blank\" href=https://colab.research.google.com/notebooks/data_table.ipynb>data table notebook</a>'\n",
              "            + ' to learn more about interactive tables.';\n",
              "          element.innerHTML = '';\n",
              "          dataTable['output_type'] = 'display_data';\n",
              "          await google.colab.output.renderOutput(dataTable, element);\n",
              "          const docLink = document.createElement('div');\n",
              "          docLink.innerHTML = docLinkHtml;\n",
              "          element.appendChild(docLink);\n",
              "        }\n",
              "      </script>\n",
              "    </div>\n",
              "  </div>\n",
              "  "
            ],
            "text/plain": [
              "           Model Name  Test Accuracy  Test Precision  Test Recall   Test F1\n",
              "0  LogisticRegression       0.966036        0.966036     0.966036  0.966036\n",
              "2        RandomForest       0.886221        0.886221     0.886221  0.886221\n",
              "1        DecisionTree       0.880513        0.880513     0.880513  0.880513"
            ]
          },
          "execution_count": 34,
          "metadata": {},
          "output_type": "execute_result"
        }
      ],
      "source": [
        "results_dict1 = {'Model Name': model_names_list,\n",
        "                 'Test Accuracy': test_accuracy_list,\n",
        "                 'Test Precision': test_precision_list,\n",
        "                 'Test Recall': test_recall_list,\n",
        "                 'Test F1': test_f1_list,\n",
        "                }\n",
        "\n",
        "results_df = pd.DataFrame(results_dict1)\n",
        "results_df.sort_values(by='Test F1', ascending=False)"
      ]
    },
    {
      "cell_type": "code",
      "execution_count": null,
      "metadata": {
        "colab": {
          "base_uri": "https://localhost:8080/",
          "height": 867
        },
        "id": "plfWNcXzwYtu",
        "outputId": "dc66b9e2-8c0d-409b-f4a2-530cd52aa102"
      },
      "outputs": [
        {
          "data": {
            "text/plain": [
              "<sklearn.metrics._plot.confusion_matrix.ConfusionMatrixDisplay at 0x7fb5c0462040>"
            ]
          },
          "execution_count": 51,
          "metadata": {},
          "output_type": "execute_result"
        },
        {
          "data": {
            "image/png": "[encoded data removed]",
            "text/plain": [
              "<Figure size 1500x1000 with 2 Axes>"
            ]
          },
          "metadata": {},
          "output_type": "display_data"
        }
      ],
      "source": [
        "from sklearn.metrics import ConfusionMatrixDisplay\n",
        "\n",
        "clf=LogisticRegression(random_state=123, max_iter=5000, multi_class = \"ovr\")\n",
        "clf.fit(X=X_train_transform, y=y1_train_transform)\n",
        "y_pred_class = clf.predict(X=X_test_transform)\n",
        "cm_ontest = confusion_matrix(y_true=y1_test_transform, y_pred=y_pred_class)\n",
        "disp=ConfusionMatrixDisplay(cm_ontest,display_labels=clf.classes_)\n",
        "fig, ax = plt.subplots(figsize=(15,10))\n",
        "disp.plot(ax=ax)"
      ]
    }
  ],
  "metadata": {
    "colab": {
      "provenance": []
    },
    "kernelspec": {
      "display_name": "Python 3",
      "name": "python3"
    },
    "language_info": {
      "name": "python"
    }
  },
  "nbformat": 4,
  "nbformat_minor": 0
}